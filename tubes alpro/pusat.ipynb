import matplotlib.pyplot as plt
plt.style.use('style/sci.mplstyle')
import numpy as np

a, b = np.loadtxt('cofmc.dat', unpack=True)
    
plt.figure()

plt.plot(a, b, color='red')

plt.xlabel('b')
plt.ylabel('b')

plt.xlim(-5, 5)
plt.ylim(-2.5, 3)

plt.savefig('plot-dos.pdf', bbox_inches='tight')
