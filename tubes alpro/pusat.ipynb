import matplotlib.pyplot as plt
plt.style.use('style/sci.mplstyle')
import numpy as np

a, b = np.loadtxt('cofmc.dat', unpack=True)
    
plt.figure()

plt.plot(a, b, color='red')

plt.xlabel('a')
plt.ylabel('b')

plt.xlim(-5, 5)
plt.ylim(-4, 4)

plt.savefig('plot-dos.pdf', bbox_inches='tight')
